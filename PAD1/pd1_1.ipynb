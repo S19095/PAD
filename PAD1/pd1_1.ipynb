{
 "cells": [
  {
   "cell_type": "code",
   "execution_count": 131,
   "metadata": {},
   "outputs": [],
   "source": [
    "from abc import ABC, abstractmethod\n",
    "\n",
    "class animal(ABC):\n",
    "    \n",
    "    # class constructor\n",
    "    def __init__(self,gender,genus):\n",
    "        \n",
    "        # attributes\n",
    "        isAlive = True\n",
    "        if gender != \"Male\":\n",
    "            self.gender=\"Female\"\n",
    "        else:\n",
    "            self.gender  = gender\n",
    "        self.genus = genus\n",
    "\n",
    "    \n",
    "    # methods\n",
    "    @abstractmethod\n",
    "    def breed(self, partner):\n",
    "        pass"
   ]
  },
  {
   "cell_type": "code",
   "execution_count": 132,
   "metadata": {},
   "outputs": [],
   "source": [
    "# class definition\n",
    "class dog(animal):\n",
    "    \n",
    "    # class constructor\n",
    "    def __init__(self,gender):\n",
    "        super().__init__(gender,\"Canis\")\n",
    "\n",
    "\n",
    "    def breed(self, partner):\n",
    "        try:\n",
    "            if self.gender == 'Female' and partner.gender == 'Male' and self.genus == partner.genus :\n",
    "                return dog(\"\")\n",
    "            else:\n",
    "                raise Exception(\"attribute not found\") \n",
    "        except Exception as e:\n",
    "            print(e)\n",
    "    \n",
    "    # methods\n",
    "    def woof(self):\n",
    "        return \"woof woof\""
   ]
  },
  {
   "cell_type": "code",
   "execution_count": 133,
   "metadata": {},
   "outputs": [],
   "source": [
    "# class definition\n",
    "class cat(animal):\n",
    "    \n",
    "    # class constructor\n",
    "    def __init__(self,gender):\n",
    "        super().__init__(gender,\"Felis\")\n",
    "\n",
    "\n",
    "    def breed(self, partner):\n",
    "        try:\n",
    "            if self.gender == 'Female' and partner.gender == 'Male' and self.genus == partner.genus :\n",
    "                return cat(\"\")\n",
    "            else:\n",
    "                raise Exception(\"attribute not found\") \n",
    "        except Exception as e:\n",
    "            print(e)\n",
    "            \n",
    "    # methods\n",
    "    def purr(self):\n",
    "        return \"purr\"\n"
   ]
  },
  {
   "cell_type": "code",
   "execution_count": 134,
   "metadata": {},
   "outputs": [
    {
     "data": {
      "text/plain": [
       "'purr'"
      ]
     },
     "execution_count": 134,
     "metadata": {},
     "output_type": "execute_result"
    }
   ],
   "source": [
    "kotek=cat(\"Male\")\n",
    "kotek.purr()"
   ]
  },
  {
   "cell_type": "code",
   "execution_count": 135,
   "metadata": {},
   "outputs": [
    {
     "name": "stdout",
     "output_type": "stream",
     "text": [
      "Male\n"
     ]
    }
   ],
   "source": [
    "print(kotek.gender)"
   ]
  },
  {
   "cell_type": "code",
   "execution_count": 136,
   "metadata": {},
   "outputs": [],
   "source": [
    "dog1 = dog(\"Male\")\n",
    "dog2 = dog(\"\")\n",
    "dog3 = dog(\"Male\")"
   ]
  },
  {
   "cell_type": "code",
   "execution_count": 137,
   "metadata": {},
   "outputs": [
    {
     "name": "stdout",
     "output_type": "stream",
     "text": [
      "attribute not found\n"
     ]
    }
   ],
   "source": [
    "dog1.breed(dog3)\n"
   ]
  },
  {
   "cell_type": "code",
   "execution_count": 138,
   "metadata": {},
   "outputs": [
    {
     "data": {
      "text/plain": [
       "<__main__.dog at 0x1b18a046dc0>"
      ]
     },
     "execution_count": 138,
     "metadata": {},
     "output_type": "execute_result"
    }
   ],
   "source": [
    "dog2.breed(dog3)"
   ]
  },
  {
   "cell_type": "code",
   "execution_count": 139,
   "metadata": {},
   "outputs": [
    {
     "name": "stdout",
     "output_type": "stream",
     "text": [
      "attribute not found\n"
     ]
    }
   ],
   "source": [
    "kotek.breed(dog1)"
   ]
  },
  {
   "cell_type": "markdown",
   "metadata": {},
   "source": []
  },
  {
   "cell_type": "markdown",
   "metadata": {},
   "source": []
  }
 ],
 "metadata": {
  "interpreter": {
   "hash": "8b28e3345ac13d47bc029dc65e33881357ae65728df127277ad0d4fa86179fed"
  },
  "kernelspec": {
   "display_name": "Python 3.8.5 ('base')",
   "language": "python",
   "name": "python3"
  },
  "language_info": {
   "codemirror_mode": {
    "name": "ipython",
    "version": 3
   },
   "file_extension": ".py",
   "mimetype": "text/x-python",
   "name": "python",
   "nbconvert_exporter": "python",
   "pygments_lexer": "ipython3",
   "version": "3.8.5"
  },
  "orig_nbformat": 4
 },
 "nbformat": 4,
 "nbformat_minor": 2
}
