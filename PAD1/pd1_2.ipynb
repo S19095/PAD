{
 "cells": [
  {
   "cell_type": "code",
   "execution_count": 36,
   "metadata": {},
   "outputs": [],
   "source": [
    "class worker():\n",
    "    def __init__(self,number,name,age,salary):\n",
    "        self.number=number\n",
    "        self.name=name\n",
    "        self.age=age\n",
    "        self.salary=salary\n",
    "    \n",
    "    def salary1(self):\n",
    "        return self.salary\n",
    "\n",
    "    def age1(self):\n",
    "        return 2022-self.age"
   ]
  },
  {
   "cell_type": "code",
   "execution_count": 37,
   "metadata": {},
   "outputs": [],
   "source": [
    "w1=worker(1,\"Adam\",1983,1500)\n",
    "w2=worker(2,\"Anna\",1981,1700)\n",
    "w3=worker(3,\"Błażej\",1990,1800)\n",
    "w4=worker(4,\"Beata\",1992,1600)\n",
    "w5=worker(5,\"Czesław\",1980,2000)\n",
    "w6=worker(6,\"Cecylia\",1983,2100)\n",
    "w7=worker(7,\"Daniel\",1976,1900)"
   ]
  },
  {
   "cell_type": "code",
   "execution_count": 38,
   "metadata": {},
   "outputs": [],
   "source": [
    "list=[]\n",
    "list.append(w1)\n",
    "list.append(w2)\n",
    "list.append(w3)\n",
    "list.append(w4)\n",
    "list.append(w5)\n",
    "list.append(w6)\n",
    "list.append(w7)"
   ]
  },
  {
   "cell_type": "code",
   "execution_count": 39,
   "metadata": {},
   "outputs": [
    {
     "name": "stdout",
     "output_type": "stream",
     "text": [
      "1800.0\n"
     ]
    }
   ],
   "source": [
    "sum=0\n",
    "for i in range(len(list)):\n",
    "    sum+=list[i].salary1()\n",
    "print(sum/len(list))\n"
   ]
  },
  {
   "cell_type": "code",
   "execution_count": 40,
   "metadata": {},
   "outputs": [
    {
     "data": {
      "text/plain": [
       "1500"
      ]
     },
     "execution_count": 40,
     "metadata": {},
     "output_type": "execute_result"
    }
   ],
   "source": [
    "w1.salary1()"
   ]
  },
  {
   "cell_type": "code",
   "execution_count": 44,
   "metadata": {},
   "outputs": [
    {
     "name": "stdout",
     "output_type": "stream",
     "text": [
      "Nie ma pracowników poniżej 30 roku życia :(\n",
      "Średnie zarobki pracowników mających przynajmniej 30 lat to:  1800.0\n"
     ]
    }
   ],
   "source": [
    "sum1=0\n",
    "t1=0\n",
    "sum2=0\n",
    "t2=0\n",
    "for i in range(len(list)):\n",
    "    if list[i].age1()<30:\n",
    "        sum1+=list[i].salary1()\n",
    "        t1+=1\n",
    "    else:\n",
    "        sum2+=list[i].salary1()\n",
    "        t2+=1\n",
    "if t1==0:\n",
    "    print(\"Nie ma pracowników poniżej 30 roku życia :(\")\n",
    "else:\n",
    "    print(\"Średnie zarobki pracowników poniżej 30 roku życia to: \",sum1/t1)\n",
    "\n",
    "if t2==0:\n",
    "    print(\"Nie ma pracowników od 30 lat w góre  :(\")\n",
    "else:\n",
    "    print(\"Średnie zarobki pracowników mających przynajmniej 30 lat to: \",sum2/t2)\n"
   ]
  }
 ],
 "metadata": {
  "interpreter": {
   "hash": "8b28e3345ac13d47bc029dc65e33881357ae65728df127277ad0d4fa86179fed"
  },
  "kernelspec": {
   "display_name": "Python 3.8.5 ('base')",
   "language": "python",
   "name": "python3"
  },
  "language_info": {
   "codemirror_mode": {
    "name": "ipython",
    "version": 3
   },
   "file_extension": ".py",
   "mimetype": "text/x-python",
   "name": "python",
   "nbconvert_exporter": "python",
   "pygments_lexer": "ipython3",
   "version": "3.8.5"
  },
  "orig_nbformat": 4
 },
 "nbformat": 4,
 "nbformat_minor": 2
}
