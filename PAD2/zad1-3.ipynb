{
 "cells": [
  {
   "cell_type": "code",
   "execution_count": 1,
   "metadata": {},
   "outputs": [
    {
     "name": "stdout",
     "output_type": "stream",
     "text": [
      "Hello in the game!\n"
     ]
    }
   ],
   "source": [
    "# powitanie\n",
    "print(\"Hello in the game!\")"
   ]
  },
  {
   "cell_type": "code",
   "execution_count": 2,
   "metadata": {},
   "outputs": [],
   "source": [
    "def setlevel(lives):\n",
    "    level = int(input())\n",
    "    if level==1:\n",
    "        lives=8\n",
    "    if level ==2:\n",
    "        lives =5\n",
    "    if level == 3:\n",
    "        lives=3\n",
    "\n",
    "    return lives\n",
    "   \n",
    "        "
   ]
  },
  {
   "cell_type": "code",
   "execution_count": 3,
   "metadata": {},
   "outputs": [
    {
     "name": "stdout",
     "output_type": "stream",
     "text": [
      "Chose level of the game\n",
      "1-beginner\n",
      "2-intermediate\n",
      "3-advanced\n",
      "8\n"
     ]
    }
   ],
   "source": [
    "print(\"Chose level of the game\")\n",
    "print(\"1-beginner\")\n",
    "print(\"2-intermediate\")\n",
    "print(\"3-advanced\")\n",
    "lives=0\n",
    "lives=setlevel(lives)\n",
    "print(lives)"
   ]
  },
  {
   "cell_type": "code",
   "execution_count": 4,
   "metadata": {},
   "outputs": [],
   "source": [
    "def setGameMode(tmp):\n",
    "    gamemode = int(input())\n",
    "    if gamemode == 1 :\n",
    "        tmp = 1\n",
    "    if gamemode == 2 :\n",
    "        tmp = 2\n",
    "    return tmp\n"
   ]
  },
  {
   "cell_type": "code",
   "execution_count": 5,
   "metadata": {},
   "outputs": [
    {
     "name": "stdout",
     "output_type": "stream",
     "text": [
      "Chose gamemode\n",
      "1-single\n",
      "2-multi\n",
      "2\n"
     ]
    }
   ],
   "source": [
    "print(\"Chose gamemode\")\n",
    "print(\"1-single\")\n",
    "print(\"2-multi\")\n",
    "tmp=0\n",
    "tmp=setGameMode(tmp)\n",
    "print(tmp)"
   ]
  },
  {
   "cell_type": "code",
   "execution_count": 6,
   "metadata": {},
   "outputs": [
    {
     "name": "stdout",
     "output_type": "stream",
     "text": [
      "Welcom in hangman multiplayer\n",
      "player 1 please input the password:\n",
      "player 2 please thats your turn game started you have: 8 lives\n",
      "\n",
      " pozostalo ci  8  zyc\n",
      "\n",
      "_ _ _\n",
      " \n",
      "Podaj swoja litere: \n",
      "\n",
      " pozostalo ci  8  zyc\n",
      "\n",
      "a _ a\n",
      " \n",
      "Podaj swoja litere: \n",
      "\n",
      " pozostalo ci  7  zyc\n",
      "\n",
      "a _ a\n",
      " \n",
      "Podaj swoja litere: \n",
      "\n",
      " pozostalo ci  6  zyc\n",
      "\n",
      "a _ a\n",
      " \n",
      "Podaj swoja litere: \n",
      "\n",
      " pozostalo ci  5  zyc\n",
      "\n",
      "a _ a\n",
      " \n",
      "Podaj swoja litere: \n",
      "\n",
      " pozostalo ci  4  zyc\n",
      "\n",
      "a _ a\n",
      " \n",
      "Podaj swoja litere: \n",
      "\n",
      " pozostalo ci  4  zyc\n",
      "\n",
      "a l a\n",
      " \n",
      " wygrales!\n"
     ]
    }
   ],
   "source": [
    "import random\n",
    "if tmp == 1 :\n",
    "    print(\"Welcom in hangman\")\n",
    "    print(\"you start with:\" ,lives, \"lives\")\n",
    "    lista = [\"sekret\", \"tunczyk\", \"brokul\", \"kicia\", \"James\"]\n",
    "    haslo = str(lista[random.randint(0, len(lista) - 1)])\n",
    "    tablica = list(haslo)\n",
    "    # tablica sluzy do wyswiatlania _ _ _ _\n",
    "    for i in range(len(haslo)):\n",
    "        tablica[i] = \"_\"\n",
    "\n",
    "    # petla while, w ktorej bedzie realizowana gra\n",
    "    while lives > 0:\n",
    "        print(\"\")\n",
    "        print( \" pozostalo ci \", lives, \" zyc\")\n",
    "        print(\"\")\n",
    "        print(\" \".join(tablica))\n",
    "        print(\" \")\n",
    "\n",
    "        # prosimy uzytkownika o podanie litery\n",
    "        print(\"Podaj swoja litere: \")\n",
    "        litera = input()\n",
    "\n",
    "        # udalo sie odgadnac\n",
    "        if litera in haslo:\n",
    "            # zmieniamy znak podkreslenia na odgadnieta litere\n",
    "            for i in range(len(haslo)):\n",
    "                if haslo[i] == litera:\n",
    "                    tablica[i] = litera\n",
    "            # sprawdzant czy tablica jest juz rowna haslu\n",
    "            # czy udalo sie odgadnac caly wyraz\n",
    "            if \"\".join(map(str, tablica)) == haslo:\n",
    "                print(\"\")\n",
    "                print(\" pozostalo ci \", lives, \" zyc\")\n",
    "                print(\"\")\n",
    "                print(\" \".join(tablica))\n",
    "                print(\" \")\n",
    "                print(\" wygrales!\")\n",
    "                break\n",
    "        # nie udalo sie\n",
    "        else:\n",
    "            lives -= 1\n",
    "elif tmp ==2:\n",
    "    print(\"Welcom in hangman multiplayer\")\n",
    "    print(\"player 1 please input the password:\")\n",
    "    haslo = input()\n",
    "    tablica = list(haslo)\n",
    "    print(\"player 2 please thats your turn game started you have:\", lives, \"lives\")\n",
    "    # tablica sluzy do wyswiatlania _ _ _ _\n",
    "    for i in range(len(haslo)):\n",
    "        tablica[i] = \"_\"\n",
    "\n",
    "    # petla while, w ktorej bedzie realizowana gra\n",
    "    while lives > 0:\n",
    "        print(\"\")\n",
    "        print( \" pozostalo ci \", lives, \" zyc\")\n",
    "        print(\"\")\n",
    "        print(\" \".join(tablica))\n",
    "        print(\" \")\n",
    "\n",
    "        # prosimy uzytkownika o podanie litery\n",
    "        print(\"Podaj swoja litere: \")\n",
    "        litera = input()\n",
    "\n",
    "        # udalo sie odgadnac\n",
    "        if litera in haslo:\n",
    "            # zmieniamy znak podkreslenia na odgadnieta litere\n",
    "            for i in range(len(haslo)):\n",
    "                if haslo[i] == litera:\n",
    "                    tablica[i] = litera\n",
    "            # sprawdzant czy tablica jest juz rowna haslu\n",
    "            # czy udalo sie odgadnac caly wyraz\n",
    "            if \"\".join(map(str, tablica)) == haslo:\n",
    "                print(\"\")\n",
    "                print(\" pozostalo ci \", lives, \" zyc\")\n",
    "                print(\"\")\n",
    "                print(\" \".join(tablica))\n",
    "                print(\" \")\n",
    "                print(\" wygrales!\")\n",
    "                break\n",
    "        # nie udalo sie\n",
    "        else:\n",
    "            lives -= 1\n",
    "\n",
    "\n"
   ]
  }
 ],
 "metadata": {
  "interpreter": {
   "hash": "48988cd772e97befdb77e56fcf2745099796a5ffc6f7b6d12e4147330857fa9f"
  },
  "kernelspec": {
   "display_name": "Python 3.9.12 64-bit (windows store)",
   "language": "python",
   "name": "python3"
  },
  "language_info": {
   "codemirror_mode": {
    "name": "ipython",
    "version": 3
   },
   "file_extension": ".py",
   "mimetype": "text/x-python",
   "name": "python",
   "nbconvert_exporter": "python",
   "pygments_lexer": "ipython3",
   "version": "3.8.5"
  },
  "orig_nbformat": 4
 },
 "nbformat": 4,
 "nbformat_minor": 2
}
